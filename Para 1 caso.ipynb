{
 "cells": [
  {
   "cell_type": "code",
   "execution_count": 1,
   "metadata": {},
   "outputs": [],
   "source": [
    "#Cargamos las librerias\n",
    "from bs4 import BeautifulSoup\n",
    "import requests\n",
    "import pandas as pd\n",
    "import numpy as np"
   ]
  },
  {
   "cell_type": "code",
   "execution_count": 2,
   "metadata": {},
   "outputs": [],
   "source": [
    "#leemos la pagina web\n",
    "GEN='ASH1L'\n",
    "url = (f\"https://www.uniprot.org/uniprot/?query={GEN}+bos+taurus&sort=score\")\n",
    "html = requests.get(url)\n",
    "soup = BeautifulSoup(html.content, 'html.parser')"
   ]
  },
  {
   "cell_type": "code",
   "execution_count": null,
   "metadata": {},
   "outputs": [],
   "source": [
    "##encontrando el entry\n",
    "entry=soup.find('tr',class_=\"entry selected-row\").a.text"
   ]
  },
  {
   "cell_type": "code",
   "execution_count": null,
   "metadata": {},
   "outputs": [],
   "source": [
    "##encontrando el entryname\n",
    "entryname=soup.find('tr',class_=\"entry selected-row\").find_all('td')[2].text"
   ]
  },
  {
   "cell_type": "code",
   "execution_count": null,
   "metadata": {},
   "outputs": [],
   "source": [
    "#leemos la segunda pagina\n",
    "url2= (f\"https://www.uniprot.org/uniprot/{entry}\")\n",
    "html2 = requests.get(url2)\n",
    "soup2 = BeautifulSoup(html2.content, 'html.parser')"
   ]
  },
  {
   "cell_type": "code",
   "execution_count": null,
   "metadata": {},
   "outputs": [],
   "source": [
    "#encontramos protein, gene, organism, status\n",
    "protein=soup2.find('div', id='content-protein').text\n",
    "gene=soup2.find('div', id='content-gene').text\n",
    "organism=soup2.find('div', id='content-organism').text\n",
    "status=soup2.find('div',id=\"content-status\").span.text"
   ]
  },
  {
   "cell_type": "code",
   "execution_count": null,
   "metadata": {},
   "outputs": [],
   "source": [
    "#encontramos GO\n",
    "GO1=soup2.find('ul', class_=\"noNumbering biological_process\")\n",
    "if GO1 is None:\n",
    "    GO=''\n",
    "else:\n",
    "    GO2=GO1.find_all('a', onclick=\"window.ga('UniProt-Entry-View', 'click', 'Display-GO-Term');\")\n",
    "    GO=''\n",
    "    for x in GO2:\n",
    "        GO+=x.text+'. '"
   ]
  },
  {
   "cell_type": "code",
   "execution_count": null,
   "metadata": {},
   "outputs": [],
   "source": [
    "#encontramos Molecular_function, Biological_process, Ligand \n",
    "funcion=soup2.find('div', class_=\"section\", id=\"function\")\n",
    "if funcion is None:\n",
    "    Molecular_function=''\n",
    "    Biological_process=''\n",
    "    Ligand=''\n",
    "else:\n",
    "    if 'Keywords' not in str(funcion):\n",
    "        Molecular_function=''\n",
    "        Biological_process=''\n",
    "        Ligand=''\n",
    "    else:                                \n",
    "        key1=funcion.find('table', class_=\"databaseTable\")\n",
    "\n",
    "        if key1 is None:\n",
    "            Molecular_function=''\n",
    "            Biological_process=''\n",
    "            Ligand=''\n",
    "        else:\n",
    "            key=key1.find_all('tr')  \n",
    "\n",
    "            llave=[]\n",
    "            clave=[]\n",
    "\n",
    "            for x in key:\n",
    "                primero=x.find('td').text\n",
    "                llave.append(primero)\n",
    "                for y in x:\n",
    "                    lista_datos=''\n",
    "                    datos=y.find_all('a')        \n",
    "                    for z in datos:\n",
    "                        lista_datos+=z.text+'. '\n",
    "                        #lista_datos.append(str(z.text))\n",
    "                    if lista_datos=='':\n",
    "                        pass\n",
    "                    else:\n",
    "                        clave.append(lista_datos)\n",
    "            if 'Molecular function' in llave:\n",
    "                Molecular_function=clave[llave.index('Molecular function')]\n",
    "            else:\n",
    "                Molecular_function=''\n",
    "            if 'Biological process' in llave:\n",
    "                Biological_process=clave[llave.index('Biological process')]\n",
    "            else:\n",
    "                Biological_process=''\n",
    "            if 'Ligand' in llave:\n",
    "                Ligand=clave[llave.index('Ligand')]\n",
    "            else:\n",
    "                Ligand=''"
   ]
  }
 ],
 "metadata": {
  "kernelspec": {
   "display_name": "Python 3",
   "language": "python",
   "name": "python3"
  },
  "language_info": {
   "codemirror_mode": {
    "name": "ipython",
    "version": 3
   },
   "file_extension": ".py",
   "mimetype": "text/x-python",
   "name": "python",
   "nbconvert_exporter": "python",
   "pygments_lexer": "ipython3",
   "version": "3.8.5"
  }
 },
 "nbformat": 4,
 "nbformat_minor": 4
}
