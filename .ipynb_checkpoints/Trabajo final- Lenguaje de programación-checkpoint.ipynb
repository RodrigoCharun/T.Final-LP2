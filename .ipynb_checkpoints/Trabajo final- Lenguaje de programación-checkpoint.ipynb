{
 "cells": [
  {
   "cell_type": "code",
   "execution_count": null,
   "metadata": {},
   "outputs": [],
   "source": [
    "#Importamos las librerias necesarias para el trabajo\n",
    "from bs4 import BeautifulSoup\n",
    "import requests\n",
    "import pandas as pd"
   ]
  },
  {
   "cell_type": "code",
   "execution_count": null,
   "metadata": {},
   "outputs": [],
   "source": [
    "#Leemos las tablas y seleccionamos la columnas que contienen los genes\n",
    "trabajo = pd.read_excel(\"Genes identificados con vecinos.xlsx\",sheet_name=None)\n",
    "lista=[]\n",
    "\n",
    "for x in trabajo:\n",
    "    lista+=list(trabajo[x].iloc[:,2])\n",
    "GENES=[]\n",
    "a=0\n",
    "for y in lista:\n",
    "    if len(str(y))>30 or str(y)=='nan' or y=='Gen Abrev':\n",
    "        pass\n",
    "    else:\n",
    "        GENES.append(y)"
   ]
  },
  {
   "cell_type": "code",
   "execution_count": null,
   "metadata": {},
   "outputs": [],
   "source": [
    "Gen_Bos_Taurus=[['GEN', 'entry', 'entryname' , 'protein', 'gene', 'organism', 'status', 'GO', 'Molecular_function', 'Biological_process', 'Ligand']]\n",
    "\n",
    "for GEN in GENES: \n",
    "    url = (f\"https://www.uniprot.org/uniprot/?query={GEN}+bos+taurus&sort=score\")\n",
    "    html = requests.get(url)\n",
    "    soup = BeautifulSoup(html.content, 'html.parser')\n",
    "    \n",
    "    \n",
    "\n",
    "    if 'Sorry, no results found for your search term.' in str(soup.text):\n",
    "        caso=[GEN, '', '' , '', '', '', '', '', '', '','']\n",
    "        \n",
    "        \n",
    "\n",
    "    else:\n",
    "\n",
    "        ##encontrando el entry\n",
    "        entry=soup.find('tr',class_=\"entry selected-row\").a.text\n",
    "        print(entry)"
   ]
  },
  {
   "cell_type": "code",
   "execution_count": null,
   "metadata": {},
   "outputs": [],
   "source": []
  },
  {
   "cell_type": "code",
   "execution_count": null,
   "metadata": {},
   "outputs": [],
   "source": []
  },
  {
   "cell_type": "code",
   "execution_count": null,
   "metadata": {},
   "outputs": [],
   "source": []
  },
  {
   "cell_type": "code",
   "execution_count": null,
   "metadata": {},
   "outputs": [],
   "source": []
  },
  {
   "cell_type": "code",
   "execution_count": null,
   "metadata": {},
   "outputs": [],
   "source": []
  },
  {
   "cell_type": "code",
   "execution_count": null,
   "metadata": {},
   "outputs": [],
   "source": []
  },
  {
   "cell_type": "code",
   "execution_count": null,
   "metadata": {},
   "outputs": [],
   "source": []
  }
 ],
 "metadata": {
  "kernelspec": {
   "display_name": "Python 3",
   "language": "python",
   "name": "python3"
  },
  "language_info": {
   "codemirror_mode": {
    "name": "ipython",
    "version": 3
   },
   "file_extension": ".py",
   "mimetype": "text/x-python",
   "name": "python",
   "nbconvert_exporter": "python",
   "pygments_lexer": "ipython3",
   "version": "3.8.5"
  }
 },
 "nbformat": 4,
 "nbformat_minor": 4
}
